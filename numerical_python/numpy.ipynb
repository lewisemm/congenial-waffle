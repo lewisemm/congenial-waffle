{
 "cells": [
  {
   "cell_type": "markdown",
   "metadata": {},
   "source": [
    "## NumPy\n",
    "\n",
    "* Stands for numerical python.\n",
    "* Fundamental package for scientific computing in Python.\n",
    "* It's extensive and capable of performing mathematical computations effectively and efficiently."
   ]
  },
  {
   "cell_type": "markdown",
   "metadata": {},
   "source": [
    "## Why use NumPy?\n",
    "\n",
    "* You may be wondering because after all, Python has lists which are extremely useful.\n",
    "* Lists are awesome, but NumPy has some advantages over lists. One of them is speed.\n",
    "* When performing operations on large arrays, NumPy often performs several orders of magnitude faster than ordinary lists.\n",
    "* NumPy has memory efficient arrays and optimized algorithms.\n",
    "* NumPy also has multidimensional array data structures that can represent vectors and matrices. (A lot of machine learning algorithms rely on matrix operations.)\n",
    "* NumPy also has a large number of optimized built-in mathematical functions. These allow for execution of a variety of complex mathematical computations very fast with very little code (read no complicated loops), making the programs easier to understand."
   ]
  },
  {
   "cell_type": "markdown",
   "metadata": {},
   "source": [
    "## Creating NumPy ndarrays\n",
    "\n",
    "* nd stands for n-dimensional.\n",
    "* ndarrays contain elements of the same type."
   ]
  },
  {
   "cell_type": "code",
   "execution_count": 2,
   "metadata": {},
   "outputs": [],
   "source": [
    "import numpy as np"
   ]
  },
  {
   "cell_type": "markdown",
   "metadata": {},
   "source": [
    "* ndarrays can be created in two ways;\n",
    "  * using python lists\n",
    "  * using built-in NumPy functions"
   ]
  },
  {
   "cell_type": "code",
   "execution_count": 4,
   "metadata": {},
   "outputs": [
    {
     "name": "stdout",
     "output_type": "stream",
     "text": [
      "x = [1 2 3 4 5]\n"
     ]
    }
   ],
   "source": [
    "# using python lists\n",
    "\n",
    "x = np.array([1, 2, 3, 4, 5])\n",
    "print(\"x = {}\".format(x))"
   ]
  },
  {
   "cell_type": "markdown",
   "metadata": {},
   "source": [
    "## Terminologies\n",
    "\n",
    "* **Rank** - In general, N-Dimensional arrays have rank N, e.g. a 2D array is a rank 2 array.\n",
    "* **shape** - corresponds to the no. of rows and columns in an array. The shape of an ndarray can be obtained by using the `.shape` attribute. It returns a tuple of N positive integers that specify the sizes of each dimension."
   ]
  },
  {
   "cell_type": "code",
   "execution_count": 5,
   "metadata": {},
   "outputs": [
    {
     "name": "stdout",
     "output_type": "stream",
     "text": [
      "x has dimensions: (5,)\n",
      "x is an object of type: <class 'numpy.ndarray'>\n",
      "The elements in x are of type: int64\n"
     ]
    }
   ],
   "source": [
    "print(\"x has dimensions: {}\".format(x.shape))\n",
    "print(\"x is an object of type: {}\".format(type(x)))\n",
    "print(\"The elements in x are of type: {}\".format(x.dtype))"
   ]
  },
  {
   "cell_type": "code",
   "execution_count": 7,
   "metadata": {},
   "outputs": [
    {
     "name": "stdout",
     "output_type": "stream",
     "text": [
      "x has dimensions: (2,)\n",
      "x is an object of type: <class 'numpy.ndarray'>\n",
      "The elements in x are of type: <U5\n"
     ]
    }
   ],
   "source": [
    "x = np.array([\"Hello\", \"World\"])\n",
    "print(\"x has dimensions: {}\".format(x.shape))\n",
    "print(\"x is an object of type: {}\".format(type(x)))\n",
    "print(\"The elements in x are of type: {}\".format(x.dtype))"
   ]
  },
  {
   "cell_type": "markdown",
   "metadata": {},
   "source": [
    "## Major difference btwn ndarrays and lists\n",
    "\n",
    "* Python lists can contain elements of multiple datatypes while ndarray elements must be of the same datatype."
   ]
  },
  {
   "cell_type": "code",
   "execution_count": 8,
   "metadata": {},
   "outputs": [
    {
     "name": "stdout",
     "output_type": "stream",
     "text": [
      "x has dimensions: (4,)\n",
      "x is an object of type: <class 'numpy.ndarray'>\n",
      "The elements in x are of type: <U21\n"
     ]
    }
   ],
   "source": [
    "x = np.array([1, 2, \"Hello\", \"World\"])\n",
    "\n",
    "print(\"x has dimensions: {}\".format(x.shape))\n",
    "print(\"x is an object of type: {}\".format(type(x)))\n",
    "print(\"The elements in x are of type: {}\".format(x.dtype))"
   ]
  },
  {
   "cell_type": "markdown",
   "metadata": {},
   "source": [
    "We can see mixed datatypes during the creation of x above, but when printing out the dtype, we see that all elements in x are of type _Unicode String_."
   ]
  },
  {
   "cell_type": "markdown",
   "metadata": {},
   "source": [
    "## Multidimensional NumPy arrays"
   ]
  },
  {
   "cell_type": "code",
   "execution_count": 13,
   "metadata": {},
   "outputs": [
    {
     "name": "stdout",
     "output_type": "stream",
     "text": [
      "Ed Sheeran - I'm in love with the shape of you. (-_-)\n",
      "Just kidding! The shape of y is ...\n",
      "\n",
      "[[ 1  2  3]\n",
      " [ 4  5  6]\n",
      " [ 7  8  9]\n",
      " [10 11 12]]\n",
      "\n",
      "y has dimensions: (4, 3)\n",
      "y has a total of 12 elements.\n",
      "y is an object of type: <class 'numpy.ndarray'>\n",
      "the elements in y are of type: int64\n"
     ]
    }
   ],
   "source": [
    "y = np.array([[1, 2, 3], [4, 5, 6], [7, 8, 9], [10, 11, 12]])\n",
    "\n",
    "print(\"Ed Sheeran - I'm in love with the shape of you. (-_-)\")\n",
    "print(\"Just kidding! The shape of y is ...\")\n",
    "print()\n",
    "print(y)\n",
    "print()\n",
    "\n",
    "print(\"y has dimensions: {}\".format(y.shape))\n",
    "\n",
    "print(\"y has a total of {} elements.\".format(y.size))\n",
    "print(\"y is an object of type: {}\".format(type(y)))\n",
    "print(\"the elements in y are of type: {}\".format(y.dtype))"
   ]
  },
  {
   "cell_type": "markdown",
   "metadata": {},
   "source": [
    "## What is the dtype when we create ndarrays with other data types?"
   ]
  },
  {
   "cell_type": "code",
   "execution_count": 15,
   "metadata": {},
   "outputs": [
    {
     "name": "stdout",
     "output_type": "stream",
     "text": [
      "The elements in x are of type: int64\n",
      "The elements in y are of type: float64\n",
      "The elements in z are of type: float64\n"
     ]
    }
   ],
   "source": [
    "x = np.array([1, 2, 3])\n",
    "y = np.array([1.0, 2.0, 3.0])\n",
    "z = np.array([1, 2.5, 4])\n",
    "\n",
    "print(\"The elements in x are of type: {}\".format(x.dtype))\n",
    "print(\"The elements in y are of type: {}\".format(y.dtype))\n",
    "print(\"The elements in z are of type: {}\".format(z.dtype))"
   ]
  },
  {
   "cell_type": "markdown",
   "metadata": {},
   "source": [
    "The `z` array is created with elements of different types but its dtype is `float64`. NumPy converts the ndarray elements to float in order to avoid losing precision in numerical computations. This is called _upcasting_."
   ]
  },
  {
   "cell_type": "markdown",
   "metadata": {},
   "source": [
    "Even though NumPy selects the dtype of the ndarray, it has the provision to allow you to specify the particular dtype you want to assign the elements inside the ndarray.\n",
    "You specify the dtype when creating the ndarray using the keyword `dtype` in the `nd.array()` function."
   ]
  },
  {
   "cell_type": "code",
   "execution_count": 17,
   "metadata": {},
   "outputs": [
    {
     "name": "stdout",
     "output_type": "stream",
     "text": [
      "This is x\n",
      "\n",
      "[1 2 3 4 5]\n",
      "\n",
      "The elements of x are of type int64\n"
     ]
    }
   ],
   "source": [
    "x = np.array([1.5, 2.2, 3.7, 4.0, 5.9], dtype=np.int64)\n",
    "\n",
    "print(\"This is x\")\n",
    "print()\n",
    "print(x)\n",
    "print()\n",
    "print(\"The elements of x are of type {}\".format(x.dtype))"
   ]
  },
  {
   "cell_type": "markdown",
   "metadata": {},
   "source": [
    "NumPy converted the ndarray to `int64` by removing the decimal part.\n",
    "Specifying the `dtype` can be important when you don't want NumPy to accidentally choose the wrong datatype."
   ]
  },
  {
   "cell_type": "markdown",
   "metadata": {},
   "source": [
    "Once you create an ndarray, you may want to save it in a file to be read later or used by another program."
   ]
  },
  {
   "cell_type": "code",
   "execution_count": 19,
   "metadata": {},
   "outputs": [],
   "source": [
    "x = np.ndarray([1, 2, 3, 4, 5])\n",
    "\n",
    "# save x in the current directory\n",
    "np.save('x_np_array', x)"
   ]
  },
  {
   "cell_type": "code",
   "execution_count": 20,
   "metadata": {},
   "outputs": [
    {
     "name": "stdout",
     "output_type": "stream",
     "text": [
      "This is y\n",
      "\n",
      "[[[[[0.00000000e+000 5.43472210e-323 6.92689230e-310 2.25465835e-314\n",
      "     0.00000000e+000]\n",
      "    [0.00000000e+000             nan 0.00000000e+000 1.00582130e-221\n",
      "     0.00000000e+000]\n",
      "    [4.44659081e-323 2.27648524e-314 6.92688973e-310 0.00000000e+000\n",
      "     0.00000000e+000]\n",
      "    [            nan 0.00000000e+000 2.12199579e-314 3.55727265e-322\n",
      "     5.43472210e-323]]\n",
      "\n",
      "   [[2.27648524e-314 6.92688973e-310 4.94065646e-324 1.18575755e-322\n",
      "                 nan]\n",
      "    [0.00000000e+000 2.12199579e-314 7.11454530e-322 5.43472210e-323\n",
      "     2.27648524e-314]\n",
      "    [6.92688973e-310 0.00000000e+000 1.38338381e-322             nan\n",
      "     0.00000000e+000]\n",
      "    [4.94065646e-324 1.06718180e-321 5.43472210e-323 2.27648524e-314\n",
      "     6.92688973e-310]]\n",
      "\n",
      "   [[0.00000000e+000 1.38338381e-322             nan 4.94065646e-323\n",
      "     4.94065646e-324]\n",
      "    [1.42290906e-321 3.95252517e-323 2.27648524e-314 6.92688973e-310\n",
      "     0.00000000e+000]\n",
      "    [5.92878775e-323             nan 0.00000000e+000 4.94065646e-324\n",
      "     1.77863633e-321]\n",
      "    [5.43472210e-323 2.27648524e-314 6.92688973e-310 0.00000000e+000\n",
      "     0.00000000e+000]]]\n",
      "\n",
      "\n",
      "  [[[1.77863633e-321 9.88131292e-324 2.12199579e-314 6.92688973e-310\n",
      "     0.00000000e+000]\n",
      "    [1.97626258e-323             nan 2.27638225e-314 4.94065646e-324\n",
      "     2.27648524e-314]\n",
      "    [0.00000000e+000 2.27648524e-314 0.00000000e+000 2.27648524e-314\n",
      "     0.00000000e+000]\n",
      "    [2.27648524e-314 0.00000000e+000 1.42290906e-321 9.88131292e-324\n",
      "     2.27648524e-314]]\n",
      "\n",
      "   [[6.92688973e-310 2.84581812e-321 1.48219694e-322             nan\n",
      "     2.27638225e-314]\n",
      "    [4.94065646e-324 2.27648524e-314 0.00000000e+000 0.00000000e+000\n",
      "     0.00000000e+000]\n",
      "    [0.00000000e+000 0.00000000e+000 0.00000000e+000 0.00000000e+000\n",
      "     0.00000000e+000]\n",
      "    [0.00000000e+000 0.00000000e+000 0.00000000e+000 0.00000000e+000\n",
      "     0.00000000e+000]]\n",
      "\n",
      "   [[0.00000000e+000 0.00000000e+000 0.00000000e+000 0.00000000e+000\n",
      "     0.00000000e+000]\n",
      "    [0.00000000e+000 0.00000000e+000 0.00000000e+000 0.00000000e+000\n",
      "     0.00000000e+000]\n",
      "    [0.00000000e+000 0.00000000e+000 0.00000000e+000 0.00000000e+000\n",
      "     0.00000000e+000]\n",
      "    [0.00000000e+000 2.27648524e-314 9.88131292e-324 2.27647230e-314\n",
      "     6.92688887e-310]]]]]\n",
      "\n",
      "The elements of y are of type float64\n"
     ]
    }
   ],
   "source": [
    "y = np.load('x_np_array.npy')\n",
    "\n",
    "print(\"This is y\")\n",
    "print()\n",
    "print(y)\n",
    "print()\n",
    "print(\"The elements of y are of type {}\".format(y.dtype))"
   ]
  },
  {
   "cell_type": "code",
   "execution_count": 21,
   "metadata": {},
   "outputs": [],
   "source": [
    "# not sure what's happening when we print y. Need to check it out later."
   ]
  },
  {
   "cell_type": "markdown",
   "metadata": {},
   "source": [
    "## creating NumPy ndarrays using built-in functions"
   ]
  },
  {
   "cell_type": "markdown",
   "metadata": {},
   "source": [
    "NumPy provides the abilioty to create ndarrays using built-in functions.\n",
    "These functions allow us to create certain kinds of functions using just one line of code.\n",
    "\n",
    "### np.zeros(shape)\n",
    "This function creates an ndarray that is full of zeroes of the given shape."
   ]
  },
  {
   "cell_type": "code",
   "execution_count": 26,
   "metadata": {},
   "outputs": [
    {
     "name": "stdout",
     "output_type": "stream",
     "text": [
      "\n",
      "[[0. 0. 0. 0.]\n",
      " [0. 0. 0. 0.]\n",
      " [0. 0. 0. 0.]]\n",
      "\n",
      "This is the shape of x: (3, 4)\n",
      "Elements of x are type: float64\n"
     ]
    }
   ],
   "source": [
    "# e.g. a rank 2 array with 3 rows and 4 columns\n",
    "x = np.zeros((3, 4))\n",
    "\n",
    "print()\n",
    "print(x)\n",
    "print()\n",
    "print(\"This is the shape of x: {}\".format(x.shape))\n",
    "print(\"Elements of x are type: {}\".format(x.dtype))"
   ]
  },
  {
   "cell_type": "markdown",
   "metadata": {},
   "source": [
    "> By default, np.zeroes creates an ndarray with dtype of float64. The desired datatype can be acheived through the use of the dtype keyword.\n",
    "\n",
    "### np.ones(shape)\n",
    "\n",
    "Similarly, we can create an ndarray full of ones."
   ]
  },
  {
   "cell_type": "code",
   "execution_count": 25,
   "metadata": {},
   "outputs": [
    {
     "name": "stdout",
     "output_type": "stream",
     "text": [
      "\n",
      "[[1. 1.]\n",
      " [1. 1.]\n",
      " [1. 1.]]\n",
      "\n",
      "This is the shape of x: (3, 2)\n"
     ]
    }
   ],
   "source": [
    "x = np.ones((3, 2))\n",
    "\n",
    "print()\n",
    "print(x)\n",
    "print()\n",
    "print(\"This is the shape of x: {}\".format(x.shape))"
   ]
  },
  {
   "cell_type": "markdown",
   "metadata": {},
   "source": [
    "Again, `np.ones()` creates an ndarray of dtype `float64`. This behaviour can be modified through the use of the `dtype` kwarg when creating the array."
   ]
  },
  {
   "cell_type": "markdown",
   "metadata": {},
   "source": [
    "### np.full(shape, constant_value)\n",
    "\n",
    "The `np.full` function takes two arguments; the shape and the constant value with which to populate the ndarray."
   ]
  },
  {
   "cell_type": "code",
   "execution_count": 27,
   "metadata": {},
   "outputs": [
    {
     "name": "stdout",
     "output_type": "stream",
     "text": [
      "\n",
      "[[34 34 34]\n",
      " [34 34 34]\n",
      " [34 34 34]\n",
      " [34 34 34]]\n",
      "\n",
      "This is the shape of x: (4, 3)\n"
     ]
    }
   ],
   "source": [
    "x = np.full((4, 3), 34)\n",
    "\n",
    "print()\n",
    "print(x)\n",
    "print()\n",
    "print(\"This is the shape of x: {}\".format(x.shape))"
   ]
  },
  {
   "cell_type": "markdown",
   "metadata": {},
   "source": [
    "`np.full` creates an ndarray of the same dtype as the constant value."
   ]
  },
  {
   "cell_type": "markdown",
   "metadata": {},
   "source": [
    "### np.eye(rows)\n",
    "\n",
    "This is used to create an identity matrix.\n",
    "\n",
    "An identity matrix is a square matrix (rows == columns) that only has ones in its main diagonal and zeroes everywhere else."
   ]
  },
  {
   "cell_type": "code",
   "execution_count": 29,
   "metadata": {},
   "outputs": [
    {
     "name": "stdout",
     "output_type": "stream",
     "text": [
      "\n",
      "[[1. 0. 0. 0. 0. 0.]\n",
      " [0. 1. 0. 0. 0. 0.]\n",
      " [0. 0. 1. 0. 0. 0.]\n",
      " [0. 0. 0. 1. 0. 0.]\n",
      " [0. 0. 0. 0. 1. 0.]\n",
      " [0. 0. 0. 0. 0. 1.]]\n",
      "\n",
      "This is the shape of x: (6, 6)\n",
      "This is the dtype of x: float64\n"
     ]
    }
   ],
   "source": [
    "x = np.eye(6)\n",
    "\n",
    "print()\n",
    "print(x)\n",
    "print()\n",
    "print(\"This is the shape of x: {}\".format(x.shape))\n",
    "print(\"This is the dtype of x: {}\".format(x.dtype))"
   ]
  },
  {
   "cell_type": "markdown",
   "metadata": {},
   "source": [
    "> The default dtype of `np.eye` is `float64`. This can be changed via the `dtype` kwarg at the point of array creation."
   ]
  },
  {
   "cell_type": "markdown",
   "metadata": {},
   "source": [
    "### np.diag(diag)\n",
    "\n",
    "This creates a **square** matrix that only has values along its main diagonal."
   ]
  },
  {
   "cell_type": "code",
   "execution_count": 30,
   "metadata": {},
   "outputs": [
    {
     "name": "stdout",
     "output_type": "stream",
     "text": [
      "\n",
      "[[10  0  0  0]\n",
      " [ 0 20  0  0]\n",
      " [ 0  0 30  0]\n",
      " [ 0  0  0 40]]\n",
      "\n",
      "This is the shape of x: (4, 4)\n",
      "This is the dtype of x: int64\n"
     ]
    }
   ],
   "source": [
    "x = np.diag([10, 20, 30, 40])\n",
    "\n",
    "print()\n",
    "print(x)\n",
    "print()\n",
    "print(\"This is the shape of x: {}\".format(x.shape))\n",
    "print(\"This is the dtype of x: {}\".format(x.dtype))"
   ]
  },
  {
   "cell_type": "markdown",
   "metadata": {},
   "source": [
    "### np.arange(start, stop, step)\n",
    "\n",
    "This creates an ndarray that has evenly spaced values within a specified interval.\n",
    "\n",
    "Can be used with either one, two or three arguments."
   ]
  },
  {
   "cell_type": "code",
   "execution_count": 31,
   "metadata": {},
   "outputs": [
    {
     "name": "stdout",
     "output_type": "stream",
     "text": [
      "\n",
      "[0 1 2 3 4 5 6 7 8 9]\n",
      "\n",
      "This is the shape of x: (10,)\n",
      "This is the dtype of x: int64\n"
     ]
    }
   ],
   "source": [
    "# when used with only one argument, it creates an ndarray of rank 1 with consecutive integers between 0 and `stop` -1\n",
    "x = np.arange(10)\n",
    "\n",
    "print()\n",
    "print(x)\n",
    "print()\n",
    "print(\"This is the shape of x: {}\".format(x.shape))\n",
    "print(\"This is the dtype of x: {}\".format(x.dtype))"
   ]
  },
  {
   "cell_type": "code",
   "execution_count": 32,
   "metadata": {},
   "outputs": [
    {
     "name": "stdout",
     "output_type": "stream",
     "text": [
      "\n",
      "[4 5 6 7 8 9]\n",
      "\n",
      "This is the shape of x: (6,)\n",
      "This is the dtype of x: int64\n"
     ]
    }
   ],
   "source": [
    "# when used with two arguments, it creates an ndarray with evenly spaced values between `start` and `stop` - 1\n",
    "x = np.arange(4, 10)\n",
    "\n",
    "print()\n",
    "print(x)\n",
    "print()\n",
    "print(\"This is the shape of x: {}\".format(x.shape))\n",
    "print(\"This is the dtype of x: {}\".format(x.dtype))"
   ]
  },
  {
   "cell_type": "code",
   "execution_count": 33,
   "metadata": {},
   "outputs": [
    {
     "name": "stdout",
     "output_type": "stream",
     "text": [
      "\n",
      "[ 1  4  7 10 13]\n",
      "\n",
      "This is the shape of x: (5,)\n",
      "This is the dtype of x: int64\n"
     ]
    }
   ],
   "source": [
    "# when used with three arguments, it creates an ndarray with values between `start` and `stop` - 1 that evenly spaced by step intervals\n",
    "x = np.arange(1, 14, 3)\n",
    "\n",
    "print()\n",
    "print(x)\n",
    "print()\n",
    "print(\"This is the shape of x: {}\".format(x.shape))\n",
    "print(\"This is the dtype of x: {}\".format(x.dtype))"
   ]
  },
  {
   "cell_type": "markdown",
   "metadata": {},
   "source": [
    "> `np.arange` allows for non-integer steps but the results may be incosistent with what you may expect due to finite floating point precision. For cases where non-integer steps are required, it's usually better to use `np.linspace()`"
   ]
  },
  {
   "cell_type": "markdown",
   "metadata": {},
   "source": [
    "### np.linspace(start, stop, step)\n",
    "\n",
    "Creates an ndarray with evenly spaced elements where `start` and `stop` are inclusive (unlike np.arange()). This means it needs to be called with at least two arguments.\n",
    "When no step is provided, a default of 50 will be used."
   ]
  },
  {
   "cell_type": "code",
   "execution_count": 37,
   "metadata": {},
   "outputs": [
    {
     "name": "stdout",
     "output_type": "stream",
     "text": [
      "\n",
      "[ 0.          2.77777778  5.55555556  8.33333333 11.11111111 13.88888889\n",
      " 16.66666667 19.44444444 22.22222222 25.        ]\n",
      "\n",
      "This is the shape of x: (10,)\n",
      "This is the dtype of x: float64\n"
     ]
    }
   ],
   "source": [
    "x = np.linspace(0, 25, 10)\n",
    "\n",
    "print()\n",
    "print(x)\n",
    "print()\n",
    "print(\"This is the shape of x: {}\".format(x.shape))\n",
    "print(\"This is the dtype of x: {}\".format(x.dtype))"
   ]
  },
  {
   "cell_type": "markdown",
   "metadata": {},
   "source": [
    "`np.linspace` works better than `np.arange` because it uses the step as the number of elements we want within interval \n",
    "rather than using the step as the value between elements.\n",
    "\n",
    "By default, the stop value is included in `np.linspace`. To exclude it, use the `endpoint` boolean flag when creating the ndarray."
   ]
  },
  {
   "cell_type": "code",
   "execution_count": 38,
   "metadata": {},
   "outputs": [
    {
     "name": "stdout",
     "output_type": "stream",
     "text": [
      "\n",
      "[ 0.   2.5  5.   7.5 10.  12.5 15.  17.5 20.  22.5]\n",
      "\n",
      "This is the shape of x: (10,)\n",
      "This is the dtype of x: float64\n"
     ]
    }
   ],
   "source": [
    "x = np.linspace(0, 25, 10, endpoint=False)\n",
    "\n",
    "print()\n",
    "print(x)\n",
    "print()\n",
    "print(\"This is the shape of x: {}\".format(x.shape))\n",
    "print(\"This is the dtype of x: {}\".format(x.dtype))"
   ]
  },
  {
   "cell_type": "markdown",
   "metadata": {},
   "source": [
    "### np.reshape(nd_array, shape)\n",
    "\n",
    "`np.arange` and `np.linspace` can also be used to create rank 2 ndarrays. This can be done by passing them to `np.reshape(nd_array, shape)`.\n",
    "\n",
    "This converts `nd_array` to the specified `shape`.\n",
    "\n",
    "It's important to note that `shape` should be compatible with the number of elements in the given `nd_array`, e.g. \n",
    "\n",
    "* you can convert a 6 element 1 rank array to a 3 X 2 rank 2 array or a 2 X 3 rank 2 array since both dimensions have a total of 6 elements.\n",
    "* you cannot reshape a 6 element rank 1 to a 3 X 3 rank 2 because the rank 2 array needs 9 elements in total."
   ]
  },
  {
   "cell_type": "code",
   "execution_count": 39,
   "metadata": {},
   "outputs": [
    {
     "name": "stdout",
     "output_type": "stream",
     "text": [
      "Original x\n",
      "\n",
      "[ 0  1  2  3  4  5  6  7  8  9 10 11 12 13 14 15 16 17 18 19]\n",
      "\n",
      "Reshaped x\n",
      "\n",
      "[[ 0  1  2  3  4]\n",
      " [ 5  6  7  8  9]\n",
      " [10 11 12 13 14]\n",
      " [15 16 17 18 19]]\n",
      "\n",
      "This is the shape of x: (4, 5)\n",
      "This is the dtype of x: int64\n"
     ]
    }
   ],
   "source": [
    "x = np.arange(20)\n",
    "\n",
    "print(\"Original x\")\n",
    "print()\n",
    "print(x)\n",
    "print()\n",
    "x = np.reshape(x, (4,5))\n",
    "print(\"Reshaped x\")\n",
    "print()\n",
    "print(x)\n",
    "print()\n",
    "print(\"This is the shape of x: {}\".format(x.shape))\n",
    "print(\"This is the dtype of x: {}\".format(x.dtype))"
   ]
  },
  {
   "cell_type": "markdown",
   "metadata": {},
   "source": [
    "One great feature about NumPy is that these built-in functions can also be chained in a single line!"
   ]
  },
  {
   "cell_type": "code",
   "execution_count": 41,
   "metadata": {},
   "outputs": [
    {
     "name": "stdout",
     "output_type": "stream",
     "text": [
      "\n",
      "[[ 0  1  2  3  4]\n",
      " [ 5  6  7  8  9]\n",
      " [10 11 12 13 14]\n",
      " [15 16 17 18 19]]\n",
      "\n",
      "This is the shape of x: (4, 5)\n",
      "This is the dtype of x: int64\n"
     ]
    }
   ],
   "source": [
    "x = np.arange(20).reshape(4, 5)\n",
    "\n",
    "print()\n",
    "print(x)\n",
    "print()\n",
    "print(\"This is the shape of x: {}\".format(x.shape))\n",
    "print(\"This is the dtype of x: {}\".format(x.dtype))"
   ]
  },
  {
   "cell_type": "markdown",
   "metadata": {},
   "source": [
    "> Notice that when we chain, the call to `np.reshape` changes slightly. It is applied as `np.reshape(shape)`"
   ]
  },
  {
   "cell_type": "markdown",
   "metadata": {},
   "source": [
    "Chaining can also be done with `np.linspace`"
   ]
  },
  {
   "cell_type": "code",
   "execution_count": 44,
   "metadata": {},
   "outputs": [
    {
     "name": "stdout",
     "output_type": "stream",
     "text": [
      "\n",
      "[[ 0.  5.]\n",
      " [10. 15.]\n",
      " [20. 25.]\n",
      " [30. 35.]\n",
      " [40. 45.]]\n",
      "\n",
      "This is the shape of x: (5, 2)\n",
      "This is the dtype of x: float64\n"
     ]
    }
   ],
   "source": [
    "x = np.linspace(0, 50, 10, endpoint=False).reshape(5, 2)\n",
    "\n",
    "print()\n",
    "print(x)\n",
    "print()\n",
    "print(\"This is the shape of x: {}\".format(x.shape))\n",
    "print(\"This is the dtype of x: {}\".format(x.dtype))"
   ]
  },
  {
   "cell_type": "markdown",
   "metadata": {},
   "source": [
    "### np.random.random(shape)\n",
    "\n",
    "NumPy also has random ndarrays. They (obviously) contain random numbers.\n",
    "\n",
    "`np.random.random` creates an ndarray of the specified shape with random floats within the `0.0 - 1.0` range."
   ]
  },
  {
   "cell_type": "code",
   "execution_count": 45,
   "metadata": {},
   "outputs": [
    {
     "name": "stdout",
     "output_type": "stream",
     "text": [
      "\n",
      "[[0.32055626 0.68693361 0.12290858]\n",
      " [0.02191445 0.06862056 0.33535179]\n",
      " [0.73944632 0.1167699  0.32899875]]\n",
      "\n",
      "This is the shape of x: (3, 3)\n",
      "This is the dtype of x: float64\n"
     ]
    }
   ],
   "source": [
    "x = np.random.random((3, 3))\n",
    "\n",
    "print()\n",
    "print(x)\n",
    "print()\n",
    "print(\"This is the shape of x: {}\".format(x.shape))\n",
    "print(\"This is the dtype of x: {}\".format(x.dtype))"
   ]
  },
  {
   "cell_type": "markdown",
   "metadata": {},
   "source": [
    "### np.random.randint(start, stop, size=shape)\n",
    "\n",
    "NumPy can also create ndarrays with random integers within a particular interval."
   ]
  },
  {
   "cell_type": "code",
   "execution_count": 46,
   "metadata": {},
   "outputs": [
    {
     "name": "stdout",
     "output_type": "stream",
     "text": [
      "\n",
      "[[12 14]\n",
      " [10  8]\n",
      " [ 4  5]]\n",
      "\n",
      "This is the shape of x: (3, 2)\n",
      "This is the dtype of x: int64\n"
     ]
    }
   ],
   "source": [
    "x = np.random.randint(4, 15, size=(3, 2))\n",
    "\n",
    "print()\n",
    "print(x)\n",
    "print()\n",
    "print(\"This is the shape of x: {}\".format(x.shape))\n",
    "print(\"This is the dtype of x: {}\".format(x.dtype))"
   ]
  },
  {
   "cell_type": "markdown",
   "metadata": {},
   "source": [
    "### np.random.normal(mean, standard_deviation, size=shape)\n",
    "\n",
    "Sometimes you want to create an ndarray that contains random numbers that satisfy certain statistical properties, e.g. if you want random numbers in the ndarray to have an average of 0.\n",
    "\n",
    "Let's create a 1000 X 1000 ndarray of random floating point numbers drawn from a normal distribution with a mean of zero and a standard deviation of 1."
   ]
  },
  {
   "cell_type": "code",
   "execution_count": 3,
   "metadata": {},
   "outputs": [
    {
     "name": "stdout",
     "output_type": "stream",
     "text": [
      "\n",
      "[[-0.13750051 -0.09541567  0.04886007 ... -0.07755683  0.09764123\n",
      "   0.08341097]\n",
      " [ 0.06122054  0.05456466  0.13947808 ...  0.16613004  0.15363135\n",
      "   0.10380523]\n",
      " [ 0.02710184  0.04610862 -0.05827324 ...  0.01261966  0.07875748\n",
      "   0.08462682]\n",
      " ...\n",
      " [ 0.05679053  0.18078767  0.03625664 ... -0.00937658 -0.11226394\n",
      "  -0.01892757]\n",
      " [-0.05172534  0.16272606  0.09297124 ... -0.08393974 -0.03597898\n",
      "   0.05998518]\n",
      " [-0.24345125 -0.03027278 -0.07134866 ... -0.02936495 -0.07807936\n",
      "  -0.02892631]]\n",
      "\n",
      "This is the shape of x: (1000, 1000)\n",
      "This is the dtype of x: float64\n",
      "The elements of x have a mean of: 0.0002146426715178508\n",
      "The maximum value amongst elements of x is: 0.48054886738071706\n",
      "The minimum value amongst elements of x is: -0.5196125290505974\n",
      "x has 500852 positive numbers\n",
      "x has 499148 negative numbers\n"
     ]
    }
   ],
   "source": [
    "x = np.random.normal(0, 0.1, size=(1000, 1000))\n",
    "\n",
    "print()\n",
    "print(x)\n",
    "print()\n",
    "print(\"This is the shape of x: {}\".format(x.shape))\n",
    "print(\"This is the dtype of x: {}\".format(x.dtype))\n",
    "print(\"The elements of x have a mean of: {}\".format(x.mean()))\n",
    "print(\"The maximum value amongst elements of x is: {}\".format(x.max()))\n",
    "print(\"The minimum value amongst elements of x is: {}\".format(x.min()))\n",
    "print(\"x has {} positive numbers\".format((x > 0).sum()))\n",
    "print(\"x has {} negative numbers\".format((x < 0).sum()))"
   ]
  },
  {
   "cell_type": "markdown",
   "metadata": {},
   "source": [
    "### Accessing, deleting and inserting elements into ndarrays\n",
    "\n",
    "We now know how to create ndarrays. Now, we'll look into how NumPy allows us to effectively manipulate data within ndarrays.\n",
    "\n",
    "ndarrays are mutable. They can also be sliced, which means that they can be split in many different ways. This allows us to retrieve any subset of the ndarray we want.\n",
    "\n",
    "Elements can be accessed using indices inside square brackets. Both positive and negative indices can be used.\n",
    "\n",
    "Positive indices accesss elements from the beginning of the array while negative indices are used to access elements from the end of the array."
   ]
  },
  {
   "cell_type": "code",
   "execution_count": 5,
   "metadata": {},
   "outputs": [
    {
     "name": "stdout",
     "output_type": "stream",
     "text": [
      "\n",
      "[1 2 3 4 5]\n",
      "\n",
      "This is the first element: 1\n",
      "This is the second element: 2\n",
      "This is the last element: 5\n",
      "\n",
      "This is the first element: 1\n",
      "This is the second element: 2\n",
      "This is the last element: 5\n"
     ]
    }
   ],
   "source": [
    "x = np.array([1, 2, 3, 4, 5])\n",
    "\n",
    "print()\n",
    "print(x)\n",
    "print()\n",
    "\n",
    "# positive indices\n",
    "print(\"This is the first element: {}\".format(x[0]))\n",
    "print(\"This is the second element: {}\".format(x[1]))\n",
    "print(\"This is the last element: {}\".format(x[4]))\n",
    "print()\n",
    "\n",
    "# negative indices\n",
    "print(\"This is the first element: {}\".format(x[-5]))\n",
    "print(\"This is the second element: {}\".format(x[-4]))\n",
    "print(\"This is the last element: {}\".format(x[-1]))"
   ]
  },
  {
   "cell_type": "markdown",
   "metadata": {},
   "source": [
    "#### Changing elements in an ndarray\n",
    "\n",
    "* Rank 1 arrays"
   ]
  },
  {
   "cell_type": "code",
   "execution_count": 12,
   "metadata": {},
   "outputs": [
    {
     "name": "stdout",
     "output_type": "stream",
     "text": [
      "Original x\n",
      "\n",
      "[1 2 3 4 5]\n",
      "\n",
      "Modified x\n",
      "\n",
      "[ 1  2  3 20  5]\n",
      "\n"
     ]
    }
   ],
   "source": [
    "x = np.array([1, 2, 3, 4, 5])\n",
    "\n",
    "print(\"Original x\")\n",
    "print()\n",
    "print(x)\n",
    "print()\n",
    "\n",
    "x[3] = 20\n",
    "\n",
    "print(\"Modified x\")\n",
    "print()\n",
    "print(x)\n",
    "print()"
   ]
  },
  {
   "cell_type": "markdown",
   "metadata": {},
   "source": [
    "* Rank 2 arrays\n",
    "\n",
    "To modify elements for these arrays, we need to provide two indices in the form of `[row, column]`."
   ]
  },
  {
   "cell_type": "code",
   "execution_count": 13,
   "metadata": {},
   "outputs": [
    {
     "name": "stdout",
     "output_type": "stream",
     "text": [
      "\n",
      "[[1 2 3]\n",
      " [4 5 6]\n",
      " [7 8 9]]\n",
      "\n",
      "This is (0, 0) in x: 1\n",
      "This is (0, 1) in x: 2\n",
      "This is (2, 2) in x: 9\n",
      "Original x\n",
      "\n",
      "[[1 2 3]\n",
      " [4 5 6]\n",
      " [7 8 9]]\n",
      "\n",
      "Modified x\n",
      "\n",
      "[[  1   2   3]\n",
      " [  4 500   6]\n",
      " [  7   8   9]]\n",
      "\n"
     ]
    }
   ],
   "source": [
    "x = np.array([[1, 2, 3], [4, 5, 6], [7, 8, 9]])\n",
    "\n",
    "print()\n",
    "print(x)\n",
    "print()\n",
    "\n",
    "print(\"This is (0, 0) in x: {}\".format(x[0, 0]))\n",
    "print(\"This is (0, 1) in x: {}\".format(x[0, 1]))\n",
    "print(\"This is (2, 2) in x: {}\".format(x[2, 2]))\n",
    "\n",
    "print(\"Original x\")\n",
    "print()\n",
    "print(x)\n",
    "print()\n",
    "\n",
    "x[1, 1] = 500\n",
    "\n",
    "print(\"Modified x\")\n",
    "print()\n",
    "print(x)\n",
    "print()"
   ]
  },
  {
   "cell_type": "markdown",
   "metadata": {},
   "source": [
    "#### Deleting items in an ndarray\n",
    "\n",
    "* Elements can be deleted using the `np.delete(ndarray, elements, axis)` function.\n",
    "* This function deletes the given list of `elements` from the given `ndarray` along the specified `axis`.\n",
    "* For rank 1 arrays, axis is not required.\n",
    "* For rank 2 arrays, `axis=0` selects rows while `axis=1` selects columns"
   ]
  },
  {
   "cell_type": "code",
   "execution_count": 22,
   "metadata": {},
   "outputs": [
    {
     "name": "stdout",
     "output_type": "stream",
     "text": [
      "Original x\n",
      "\n",
      "[1 2 3 4 5]\n",
      "\n",
      "Modified x\n",
      "\n",
      "[2 3 4]\n",
      "\n",
      "Original y\n",
      "\n",
      "[[1 2 3]\n",
      " [4 5 6]\n",
      " [7 8 9]]\n",
      "\n",
      "How y would look like without the first row\n",
      "\n",
      "[[4 5 6]\n",
      " [7 8 9]]\n",
      "\n",
      "How y would look like without the first and last column\n",
      "\n",
      "[[2]\n",
      " [5]\n",
      " [8]]\n",
      "\n"
     ]
    }
   ],
   "source": [
    "# rank 1 arrays\n",
    "x = np.array([1, 2, 3, 4, 5])\n",
    "\n",
    "print(\"Original x\")\n",
    "print()\n",
    "print(x)\n",
    "print()\n",
    "\n",
    "# delete the first and last element of x\n",
    "x = np.delete(x, [0,4])\n",
    "\n",
    "print(\"Modified x\")\n",
    "print()\n",
    "print(x)\n",
    "print()\n",
    "\n",
    "# rank 2 arrays\n",
    "y = np.array([[1, 2, 3], [4, 5, 6], [7, 8, 9]])\n",
    "\n",
    "print(\"Original y\")\n",
    "print()\n",
    "print(y)\n",
    "print()\n",
    "\n",
    "# delete the first row of y\n",
    "w = np.delete(y, 0, axis=0)\n",
    "\n",
    "print(\"How y would look like without the first row\")\n",
    "print()\n",
    "print(w)\n",
    "print()\n",
    "\n",
    "# delete the first and last column of y\n",
    "v = np.delete(y, [0, 2], 1)\n",
    "\n",
    "print(\"How y would look like without the first and last column\")\n",
    "print()\n",
    "print(v)\n",
    "print()"
   ]
  },
  {
   "cell_type": "markdown",
   "metadata": {},
   "source": [
    "#### Appending values to ndarrays\n",
    "\n",
    "*  We use the `np.append(ndarray, elements, axis)` function for this.\n",
    "*  This function appends the given list of `elements` to `ndarray` along the specified `axis`."
   ]
  },
  {
   "cell_type": "code",
   "execution_count": 35,
   "metadata": {},
   "outputs": [
    {
     "name": "stdout",
     "output_type": "stream",
     "text": [
      "Original x\n",
      "\n",
      "[1 2 3 4 5]\n",
      "\n",
      "Modified x\n",
      "\n",
      "[1 2 3 4 5 6]\n",
      "\n",
      "Further modified x\n",
      "\n",
      "[1 2 3 4 5 6 7 8]\n",
      "\n",
      "Original y\n",
      "\n",
      "[[1 2 3]\n",
      " [4 5 6]]\n",
      "\n",
      "y modified with extra row [7,8,9]\n",
      "\n",
      "[[1 2 3]\n",
      " [4 5 6]\n",
      " [7 8 9]]\n",
      "\n",
      "y modified with extra column containing 9 and 10\n",
      "\n",
      "[[ 1  2  3  9]\n",
      " [ 4  5  6 10]\n",
      " [ 7  8  9 11]]\n",
      "\n"
     ]
    }
   ],
   "source": [
    "# rank 1 arrays\n",
    "x = np.array([1, 2, 3, 4, 5])\n",
    "\n",
    "print(\"Original x\")\n",
    "print()\n",
    "print(x)\n",
    "print()\n",
    "\n",
    "# append the integer 6 to x\n",
    "x = np.append(x, 6)\n",
    "\n",
    "print(\"Modified x\")\n",
    "print()\n",
    "print(x)\n",
    "print()\n",
    "\n",
    "# append the integers 7 and 8 to x\n",
    "x = np.append(x, [7, 8])\n",
    "\n",
    "print(\"Further modified x\")\n",
    "print()\n",
    "print(x)\n",
    "print()\n",
    "\n",
    "# rank 2 arrays\n",
    "y = np.array([[1, 2, 3], [4, 5, 6]])\n",
    "\n",
    "print(\"Original y\")\n",
    "print()\n",
    "print(y)\n",
    "print()\n",
    "\n",
    "# append a row containing [7, 8, 9] to y\n",
    "y = np.append(y, [[7, 8, 9]], axis=0)\n",
    "\n",
    "print(\"y modified with extra row [7,8,9]\")\n",
    "print()\n",
    "print(y)\n",
    "print()\n",
    "\n",
    "# append a new column containing 9 and 10\n",
    "y = np.append(y, [[9], [10], [11]], axis=1)\n",
    "\n",
    "print(\"y modified with extra column containing 9 and 10\")\n",
    "print()\n",
    "print(y)\n",
    "print()"
   ]
  },
  {
   "cell_type": "markdown",
   "metadata": {},
   "source": [
    "#### Inserting values in ndarrays\n",
    "\n",
    "*  `np.insert(ndarray, index, elements, axis)` is the function of interest.\n",
    "*  This inserts the given list of `elements` to `ndarray` right before the given `index` aling the specified `axis`."
   ]
  },
  {
   "cell_type": "code",
   "execution_count": 40,
   "metadata": {},
   "outputs": [
    {
     "name": "stdout",
     "output_type": "stream",
     "text": [
      "Original x\n",
      "\n",
      "[1 2 5 6 7]\n",
      "\n",
      "Modified x\n",
      "\n",
      "[1 2 3 4 5 6 7]\n",
      "\n",
      "Original y\n",
      "\n",
      "[[1 2 3]\n",
      " [7 8 9]]\n",
      "\n",
      "Modified y\n",
      "\n",
      "[[1 2 3]\n",
      " [4 5 6]\n",
      " [7 8 9]]\n",
      "\n"
     ]
    }
   ],
   "source": [
    "# rank 1 array\n",
    "x = np.array([1, 2, 5, 6 ,7])\n",
    "\n",
    "print(\"Original x\")\n",
    "print()\n",
    "print(x)\n",
    "print()\n",
    "\n",
    "# insert 3 and 4 between 2 and 5\n",
    "x = np.insert(x, 2, [3, 4])\n",
    "\n",
    "print(\"Modified x\")\n",
    "print()\n",
    "print(x)\n",
    "print()\n",
    "\n",
    "# rank 2 arrays\n",
    "y = np.array([[1, 2, 3], [7, 8, 9]])\n",
    "\n",
    "print(\"Original y\")\n",
    "print()\n",
    "print(y)\n",
    "print()\n",
    "\n",
    "# insert a row between the first and last row of y\n",
    "y = np.insert(y, 1, [[4, 5, 6]], 0)\n",
    "\n",
    "print(\"Modified y\")\n",
    "print()\n",
    "print(y)\n",
    "print()"
   ]
  },
  {
   "cell_type": "markdown",
   "metadata": {},
   "source": [
    "#### Stacking\n",
    "\n",
    "NumPy allows stacking of ndarrays on top of each other or side by side.\n",
    "\n",
    "Stacking is done using either `np.vstack` (for vertical stacking) or `np.hstack` (for horizontal stacking).\n",
    "\n",
    "In order to stack ndarrays, their **SHAPES MUST MATCH**!"
   ]
  },
  {
   "cell_type": "code",
   "execution_count": 43,
   "metadata": {},
   "outputs": [
    {
     "name": "stdout",
     "output_type": "stream",
     "text": [
      "x\n",
      "\n",
      "[1 2]\n",
      "\n",
      "y\n",
      "\n",
      "[[3 4]\n",
      " [5 6]]\n",
      "\n",
      "stacking x on top of y\n",
      "\n",
      "[[1 2]\n",
      " [3 4]\n",
      " [5 6]]\n",
      "\n",
      "stacking x to the right of y\n",
      "\n",
      "[[3 4 1]\n",
      " [5 6 2]]\n",
      "\n"
     ]
    }
   ],
   "source": [
    "x = np.array([1, 2])\n",
    "\n",
    "y = np.array([[3, 4], [5, 6]])\n",
    "\n",
    "print(\"x\")\n",
    "print()\n",
    "print(x)\n",
    "print()\n",
    "\n",
    "print(\"y\")\n",
    "print()\n",
    "print(y)\n",
    "print()\n",
    "\n",
    "# stack x on top of y\n",
    "z = np.vstack((x, y))\n",
    "\n",
    "print(\"stacking x on top of y\")\n",
    "print()\n",
    "print(z)\n",
    "print()\n",
    "\n",
    "# stack x on the right of y. Reshape needed.\n",
    "w = np.hstack((y, x.reshape(2, 1)))\n",
    "\n",
    "print(\"stacking x to the right of y\")\n",
    "print()\n",
    "print(w)\n",
    "print()\n"
   ]
  },
  {
   "cell_type": "code",
   "execution_count": null,
   "metadata": {},
   "outputs": [],
   "source": []
  }
 ],
 "metadata": {
  "kernelspec": {
   "display_name": "Python 3",
   "language": "python",
   "name": "python3"
  },
  "language_info": {
   "codemirror_mode": {
    "name": "ipython",
    "version": 3
   },
   "file_extension": ".py",
   "mimetype": "text/x-python",
   "name": "python",
   "nbconvert_exporter": "python",
   "pygments_lexer": "ipython3",
   "version": "3.7.0"
  }
 },
 "nbformat": 4,
 "nbformat_minor": 2
}
