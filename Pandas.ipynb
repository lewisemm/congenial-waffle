{
 "cells": [
  {
   "cell_type": "markdown",
   "metadata": {},
   "source": [
    "# Introduction to Pandas\n",
    "\n",
    "**Pandas** is a package for data manipulation and analysis in Python. The name Panda is derived from **Pan**el **Da**ta.\n",
    "\n",
    "Pandas incorporate two additional data structures into Python;\n",
    "* Pandas series\n",
    "* Pandas dataframe\n",
    "These data structures allow us to work with labelled and relational data in an easy and intuitive manner.\n",
    "\n",
    "## Why use Pandas?\n",
    "The recent successes of machine learning algorithmsis partly due to the huge amounts of data that we have available to train our algorithms.\n",
    "However, when it comes to data, quantity is not the only thing that matters, the quality of data is just as important. It often happens that large datasets don't come ready to be fed into your learning algorithms. They will often have incorrect values, missing values, outliers etc.\n",
    "One important step in machine learning is to look at your data first and make sure it's well suited for your training algorithm by doing some basic data analysis.\n",
    "This is where Pandas come in.\n",
    "Pandas Series and Pandas Dataframes are designed for fast data analysis and manipulation. They are also flexible and easy to use.\n",
    "Below are some features that make it an excellent package for data analysis.\n",
    "* It allows the use of labels for rows and columns\n",
    "* Can calculate rolling statistics on time series data\n",
    "* Easy handling of NaN values\n",
    "* It's able to load data of different formats into DataFrames\n",
    "* Can join and merge different datasets together\n",
    "* Integrates with NumPy and Matplotlib"
   ]
  },
  {
   "cell_type": "markdown",
   "metadata": {},
   "source": [
    "## Creating a Panda series\n",
    "\n",
    "A Panda series is a one-dimensional array like object that can hold many datatypes.\n",
    "\n",
    "One main difference between Panda Series and a NumPy ndarray is that you can assign an index label to each element in the Panda (you can name the indices in your Panda Series).\n",
    "\n",
    "Another big difference between the two is that a Panda Series can contain elements of different data types.\n",
    "\n",
    "Let's create a Pandas Series.\n",
    "\n",
    "The command `pd.Series(data, index)` will create a Pandas series where `index` is the list of index labels.\n",
    "\n",
    "We can create a Pandas Series to store a grocery list."
   ]
  },
  {
   "cell_type": "code",
   "execution_count": 3,
   "metadata": {},
   "outputs": [
    {
     "data": {
      "text/plain": [
       "eggs       30\n",
       "apples      6\n",
       "milk      Yes\n",
       "bread      No\n",
       "dtype: object"
      ]
     },
     "execution_count": 3,
     "metadata": {},
     "output_type": "execute_result"
    }
   ],
   "source": [
    "import pandas as pd\n",
    "\n",
    "groceries = pd.Series(data=[30, 6, \"Yes\", \"No\"], index=[\"eggs\", \"apples\", \"milk\", \"bread\"])\n",
    "\n",
    "groceries"
   ]
  },
  {
   "cell_type": "markdown",
   "metadata": {},
   "source": [
    "> Pandas Series are displayed with indices in the first column and the data in the second column.\n",
    "\n",
    "Just like NumPy ndarrays, Pandas Series have attributes that allow us to get information from the series in an easy way."
   ]
  },
  {
   "cell_type": "code",
   "execution_count": 4,
   "metadata": {},
   "outputs": [
    {
     "name": "stdout",
     "output_type": "stream",
     "text": [
      "Groceries has shape (4,)\n",
      "Groceries has dimension 1\n",
      "Groceries has a total of 4 elements\n"
     ]
    }
   ],
   "source": [
    "print(\"Groceries has shape {}\".format(groceries.shape))\n",
    "print(\"Groceries has dimension {}\".format(groceries.ndim))\n",
    "print(\"Groceries has a total of {} elements\".format(groceries.size))"
   ]
  },
  {
   "cell_type": "markdown",
   "metadata": {},
   "source": [
    "We can also print the index labels and the data separately. This is helpful if you don't happen to know what the index labels of the Pandas Series are."
   ]
  },
  {
   "cell_type": "code",
   "execution_count": 5,
   "metadata": {},
   "outputs": [
    {
     "name": "stdout",
     "output_type": "stream",
     "text": [
      "The data in groceries is [30 6 'Yes' 'No'].\n",
      "The index of groceries is Index(['eggs', 'apples', 'milk', 'bread'], dtype='object').\n"
     ]
    }
   ],
   "source": [
    "print(\"The data in groceries is {}.\".format(groceries.values))\n",
    "print(\"The index of groceries is {}.\".format(groceries.index))"
   ]
  },
  {
   "cell_type": "markdown",
   "metadata": {},
   "source": [
    "If you are dealing with a very large Pandas Series and you're not sure whether an index label exists, you can check using the `in` command."
   ]
  },
  {
   "cell_type": "code",
   "execution_count": 6,
   "metadata": {},
   "outputs": [
    {
     "name": "stdout",
     "output_type": "stream",
     "text": [
      "Is bananas an index label in groceries? False.\n",
      "Is bread an index label in groceries? True.\n"
     ]
    }
   ],
   "source": [
    "print(\"Is bananas an index label in groceries? {}.\".format(\"bananas\" in groceries))\n",
    "print(\"Is bread an index label in groceries? {}.\".format(\"bread\" in groceries))"
   ]
  },
  {
   "cell_type": "markdown",
   "metadata": {},
   "source": [
    "## Accessing and deleting elements in a Pandas Series\n",
    "\n",
    "One great advantage of a Pandss Series is that it allows us to access data in many different ways.\n",
    "\n",
    "Elements can be accessed using index labels or numerical indices inside square brackets. Both positive and negative indices can be used to access elements from the beginning and from the end of the Series respectively.\n",
    "\n",
    "Since there are different ways to access elements, Pandas Series have devised a way to remove any abiguity when accessing elements. It has two attributes that allow us to explicitly write what we mean to do. These two attributes are;\n",
    "* `.loc` - stands for location. It's used to explicitly state that we are using a labeled index.\n",
    "* `.iloc` - stands for integer location. It's used to explicitly state that we are using a numerical index.\n",
    "\n",
    "Let's see some examples."
   ]
  },
  {
   "cell_type": "code",
   "execution_count": 10,
   "metadata": {},
   "outputs": [
    {
     "name": "stdout",
     "output_type": "stream",
     "text": [
      "How many eggs do we need to buy? 30\n",
      "\n",
      "Do we need milk and bread? \n",
      " milk     Yes\n",
      "bread     No\n",
      "dtype: object\n",
      "\n",
      "How many eggs and apples do we need to buy? \n",
      " eggs      30\n",
      "apples     6\n",
      "dtype: object\n",
      "\n",
      "How many eggs and apples do we need to buy? \n",
      " eggs      30\n",
      "apples     6\n",
      "dtype: object\n",
      "\n",
      "Do we need bread? No\n",
      "\n"
     ]
    }
   ],
   "source": [
    "print(\"How many eggs do we need to buy? {}\".format(groceries[\"eggs\"]))\n",
    "print()\n",
    "print(\"Do we need milk and bread? \\n {}\".format(groceries[[\"milk\", \"bread\"]]))\n",
    "print()\n",
    "print(\"How many eggs and apples do we need to buy? \\n {}\".format(groceries[[\"eggs\", \"apples\"]]))\n",
    "print()\n",
    "print(\"How many eggs and apples do we need to buy? \\n {}\".format(groceries[[0, 1]]))\n",
    "print()\n",
    "print(\"Do we need bread? {}\".format(groceries[-1]))\n",
    "print()"
   ]
  },
  {
   "cell_type": "markdown",
   "metadata": {},
   "source": [
    "Pandas Series are mutable. We can change elements after the Series has already been created."
   ]
  },
  {
   "cell_type": "code",
   "execution_count": 13,
   "metadata": {},
   "outputs": [
    {
     "name": "stdout",
     "output_type": "stream",
     "text": [
      "Original groceries list: \n",
      " eggs        2\n",
      "apples      6\n",
      "milk      Yes\n",
      "bread      No\n",
      "dtype: object\n",
      "\n",
      "Modified groceries list: \n",
      " eggs       82\n",
      "apples      6\n",
      "milk      Yes\n",
      "bread      No\n",
      "dtype: object\n"
     ]
    }
   ],
   "source": [
    "print(\"Original groceries list: \\n {}\".format(groceries))\n",
    "\n",
    "groceries[\"eggs\"] = 82\n",
    "print()\n",
    "print(\"Modified groceries list: \\n {}\".format(groceries))"
   ]
  },
  {
   "cell_type": "markdown",
   "metadata": {},
   "source": [
    "We can delete items from Pandas Series using the `drop()` method. By default, this method drops elements **out of place**, meaning that the original Series will not be altered."
   ]
  },
  {
   "cell_type": "code",
   "execution_count": 14,
   "metadata": {},
   "outputs": [
    {
     "name": "stdout",
     "output_type": "stream",
     "text": [
      "Original groceries list: \n",
      " eggs       82\n",
      "apples      6\n",
      "milk      Yes\n",
      "bread      No\n",
      "dtype: object\n",
      "\n",
      "remove apples (out of place): \n",
      " eggs      82\n",
      "milk     Yes\n",
      "bread     No\n",
      "dtype: object\n",
      "\n",
      "groceries list after the drop: \n",
      " eggs       82\n",
      "apples      6\n",
      "milk      Yes\n",
      "bread      No\n",
      "dtype: object\n"
     ]
    }
   ],
   "source": [
    "print(\"Original groceries list: \\n {}\".format(groceries))\n",
    "\n",
    "print()\n",
    "print(\"remove apples (out of place): \\n {}\".format(groceries.drop(\"apples\")))\n",
    "print()\n",
    "print(\"groceries list after the drop: \\n {}\".format(groceries))"
   ]
  },
  {
   "cell_type": "markdown",
   "metadata": {},
   "source": [
    "To delete items in place, we need to use the `inplace` keyword and set its value to `True`."
   ]
  },
  {
   "cell_type": "code",
   "execution_count": 15,
   "metadata": {},
   "outputs": [
    {
     "name": "stdout",
     "output_type": "stream",
     "text": [
      "Original groceries list: \n",
      " eggs       82\n",
      "apples      6\n",
      "milk      Yes\n",
      "bread      No\n",
      "dtype: object\n",
      "\n",
      "remove apples (in place): \n",
      " None\n",
      "\n",
      "groceries list after the drop: \n",
      " eggs      82\n",
      "milk     Yes\n",
      "bread     No\n",
      "dtype: object\n"
     ]
    }
   ],
   "source": [
    "print(\"Original groceries list: \\n {}\".format(groceries))\n",
    "\n",
    "print()\n",
    "print(\"remove apples (in place): \\n {}\".format(groceries.drop(\"apples\", inplace=True)))\n",
    "print()\n",
    "print(\"groceries list after the drop: \\n {}\".format(groceries))"
   ]
  },
  {
   "cell_type": "markdown",
   "metadata": {},
   "source": [
    "## Arithmetic Operations on Pandas Series\n",
    "\n",
    "Just like with NumPy ndarrays, we can perform element-wise operations on Pandas Series."
   ]
  },
  {
   "cell_type": "code",
   "execution_count": 16,
   "metadata": {},
   "outputs": [
    {
     "data": {
      "text/plain": [
       "apples     10\n",
       "oranges     6\n",
       "bananas     3\n",
       "dtype: int64"
      ]
     },
     "execution_count": 16,
     "metadata": {},
     "output_type": "execute_result"
    }
   ],
   "source": [
    "fruits = pd.Series(data=[10, 6, 3], index=[\"apples\", \"oranges\", \"bananas\"])\n",
    "\n",
    "fruits"
   ]
  },
  {
   "cell_type": "markdown",
   "metadata": {},
   "source": [
    "We can modify the data in fruits by performing basic arithmetic operations. Let's see some examples."
   ]
  },
  {
   "cell_type": "code",
   "execution_count": 17,
   "metadata": {},
   "outputs": [
    {
     "name": "stdout",
     "output_type": "stream",
     "text": [
      "Original list of fruits \n",
      " apples     10\n",
      "oranges     6\n",
      "bananas     3\n",
      "dtype: int64\n",
      "\n",
      "fruits + 2: \n",
      " apples     12\n",
      "oranges     8\n",
      "bananas     5\n",
      "dtype: int64\n",
      "\n",
      "fruits - 2: \n",
      " apples     8\n",
      "oranges    4\n",
      "bananas    1\n",
      "dtype: int64\n",
      "\n",
      "fruits * 2: \n",
      " apples     20\n",
      "oranges    12\n",
      "bananas     6\n",
      "dtype: int64\n",
      "\n",
      "fruits / 2: \n",
      " apples     5.0\n",
      "oranges    3.0\n",
      "bananas    1.5\n",
      "dtype: float64\n"
     ]
    }
   ],
   "source": [
    "print(\"Original list of fruits \\n {}\".format(fruits))\n",
    "print()\n",
    "print(\"fruits + 2: \\n {}\".format(fruits + 2))\n",
    "print()\n",
    "print(\"fruits - 2: \\n {}\".format(fruits - 2))\n",
    "print()\n",
    "print(\"fruits * 2: \\n {}\".format(fruits * 2))\n",
    "print()\n",
    "print(\"fruits / 2: \\n {}\".format(fruits / 2))"
   ]
  },
  {
   "cell_type": "markdown",
   "metadata": {},
   "source": [
    "Mathematical functions such as `sqrt(x)` from NumPy can also be performed."
   ]
  },
  {
   "cell_type": "code",
   "execution_count": 18,
   "metadata": {},
   "outputs": [
    {
     "name": "stdout",
     "output_type": "stream",
     "text": [
      "Original list of fruits \n",
      " apples     10\n",
      "oranges     6\n",
      "bananas     3\n",
      "dtype: int64\n",
      "\n",
      "exp(fruits): \n",
      " apples     22026.465795\n",
      "oranges      403.428793\n",
      "bananas       20.085537\n",
      "dtype: float64\n",
      "\n",
      "sqrt(fruits): \n",
      " apples     3.162278\n",
      "oranges    2.449490\n",
      "bananas    1.732051\n",
      "dtype: float64\n",
      "\n",
      "power(fruits, 2): \n",
      " apples     100\n",
      "oranges     36\n",
      "bananas      9\n",
      "dtype: int64\n"
     ]
    }
   ],
   "source": [
    "import numpy as np\n",
    "\n",
    "print(\"Original list of fruits \\n {}\".format(fruits))\n",
    "print()\n",
    "print(\"exp(fruits): \\n {}\".format(np.exp(fruits)))\n",
    "print()\n",
    "print(\"sqrt(fruits): \\n {}\".format(np.sqrt(fruits)))\n",
    "print()\n",
    "print(\"power(fruits, 2): \\n {}\".format(np.power(fruits, 2)))"
   ]
  },
  {
   "cell_type": "markdown",
   "metadata": {},
   "source": [
    "Arithmetic operations can be applied only on selected items in the fruits list."
   ]
  },
  {
   "cell_type": "code",
   "execution_count": 20,
   "metadata": {},
   "outputs": [
    {
     "name": "stdout",
     "output_type": "stream",
     "text": [
      "Original list of fruits \n",
      " apples     10\n",
      "oranges     6\n",
      "bananas     3\n",
      "dtype: int64\n",
      "\n",
      "Amount of bananas + 2 = 5\n",
      "\n",
      "Amount of apples - 2 = 8\n",
      "\n",
      "We double the amount of apples and oranges: \n",
      " apples     20\n",
      "oranges    12\n",
      "dtype: int64\n",
      "\n",
      "We half the amount of apples and oranges: \n",
      " apples     5.0\n",
      "oranges    3.0\n",
      "dtype: float64\n",
      "\n"
     ]
    }
   ],
   "source": [
    "print(\"Original list of fruits \\n {}\".format(fruits))\n",
    "print()\n",
    "print(\"Amount of bananas + 2 = {}\".format(fruits[\"bananas\"] + 2))\n",
    "print()\n",
    "print(\"Amount of apples - 2 = {}\".format(fruits.iloc[0] - 2))\n",
    "print()\n",
    "print(\"We double the amount of apples and oranges: \\n {}\".format(fruits[[\"apples\", \"oranges\"]] * 2))\n",
    "print()\n",
    "print(\"We half the amount of apples and oranges: \\n {}\".format(fruits[[\"apples\", \"oranges\"]] / 2))\n",
    "print()"
   ]
  },
  {
   "cell_type": "markdown",
   "metadata": {},
   "source": [
    "Aruthmetic operations can also be applied on Pandas Series of mixed datatype, provided the arithmetic operation is defined for all data types in the series, otherwise, you get an error.\n",
    "\n",
    "Let's see what happens when we multiply the groceries list by 2."
   ]
  },
  {
   "cell_type": "code",
   "execution_count": 21,
   "metadata": {},
   "outputs": [
    {
     "data": {
      "text/plain": [
       "eggs        164\n",
       "milk     YesYes\n",
       "bread      NoNo\n",
       "dtype: object"
      ]
     },
     "execution_count": 21,
     "metadata": {},
     "output_type": "execute_result"
    }
   ],
   "source": [
    "groceries * 2"
   ]
  },
  {
   "cell_type": "markdown",
   "metadata": {},
   "source": [
    "Panda doubles each of the elements, including the strings.\n",
    "\n",
    "If you were to apply an operation that is valid for numbers but not for strings e.g. `/` (division), you will get an error.\n",
    "\n",
    "When you have mixed datatypes, make sure that arithmetic operations are valid for all datatypes in your Pandas Series."
   ]
  },
  {
   "cell_type": "markdown",
   "metadata": {},
   "source": [
    "## Creating Pandas DataFrames\n",
    "\n",
    "Pandas DataFrames are two dimensional data structures with labelled rows and columns that can hold multiple datatypes.\n",
    "\n",
    "Pandas DataFrames can be thought of as being similar to spreadsheets.\n",
    "\n",
    "Pandas DataFrames can ether be created from dictionaries or from a file.\n",
    "\n",
    "### Creating Pandas DataFrames from a dictionary of Pandas Series\n",
    "\n",
    "We will create a dictionary of items purchased by two people; Alice and Bob."
   ]
  },
  {
   "cell_type": "code",
   "execution_count": 23,
   "metadata": {},
   "outputs": [
    {
     "name": "stdout",
     "output_type": "stream",
     "text": [
      "<class 'dict'>\n"
     ]
    }
   ],
   "source": [
    "import pandas as pd\n",
    "\n",
    "items = {\n",
    "    \"Bob\": pd.Series(data=[245, 25, 55], index=[\"bike\", \"pants\", \"watch\"]),\n",
    "    \"Alice\": pd.Series(data=[40, 110, 500, 45], index=[\"book\", \"glasses\", \"bike\", \"pants\"]),\n",
    "}\n",
    "\n",
    "print(type(items))"
   ]
  },
  {
   "cell_type": "markdown",
   "metadata": {},
   "source": [
    "Now that we have a dictionary, we can pass it to the `pd.DataFrame()` function."
   ]
  },
  {
   "cell_type": "code",
   "execution_count": 25,
   "metadata": {},
   "outputs": [
    {
     "data": {
      "text/html": [
       "<div>\n",
       "<style scoped>\n",
       "    .dataframe tbody tr th:only-of-type {\n",
       "        vertical-align: middle;\n",
       "    }\n",
       "\n",
       "    .dataframe tbody tr th {\n",
       "        vertical-align: top;\n",
       "    }\n",
       "\n",
       "    .dataframe thead th {\n",
       "        text-align: right;\n",
       "    }\n",
       "</style>\n",
       "<table border=\"1\" class=\"dataframe\">\n",
       "  <thead>\n",
       "    <tr style=\"text-align: right;\">\n",
       "      <th></th>\n",
       "      <th>Bob</th>\n",
       "      <th>Alice</th>\n",
       "    </tr>\n",
       "  </thead>\n",
       "  <tbody>\n",
       "    <tr>\n",
       "      <th>bike</th>\n",
       "      <td>245.0</td>\n",
       "      <td>500.0</td>\n",
       "    </tr>\n",
       "    <tr>\n",
       "      <th>book</th>\n",
       "      <td>NaN</td>\n",
       "      <td>40.0</td>\n",
       "    </tr>\n",
       "    <tr>\n",
       "      <th>glasses</th>\n",
       "      <td>NaN</td>\n",
       "      <td>110.0</td>\n",
       "    </tr>\n",
       "    <tr>\n",
       "      <th>pants</th>\n",
       "      <td>25.0</td>\n",
       "      <td>45.0</td>\n",
       "    </tr>\n",
       "    <tr>\n",
       "      <th>watch</th>\n",
       "      <td>55.0</td>\n",
       "      <td>NaN</td>\n",
       "    </tr>\n",
       "  </tbody>\n",
       "</table>\n",
       "</div>"
      ],
      "text/plain": [
       "           Bob  Alice\n",
       "bike     245.0  500.0\n",
       "book       NaN   40.0\n",
       "glasses    NaN  110.0\n",
       "pants     25.0   45.0\n",
       "watch     55.0    NaN"
      ]
     },
     "execution_count": 25,
     "metadata": {},
     "output_type": "execute_result"
    }
   ],
   "source": [
    "shopping_carts = pd.DataFrame(items)\n",
    "\n",
    "shopping_carts"
   ]
  },
  {
   "cell_type": "markdown",
   "metadata": {},
   "source": [
    "There are several things to notice here;\n",
    "\n",
    "1. Data frames are displayed in tabular form (like a spreadsheet)\n",
    "2. The rows in the DataFrame are built from the union of the labels from the two Pandas Series in the dictionary\n",
    "3. The column labels are taken from the dictionary keys\n",
    "4. There are some NaN values. This is Pandas way of indicating that it doesn't have a value for a particular row and column index.\n",
    "\n",
    "In the above example, we created a Pandas DataFrame from a dictionary of Pandas Series that have index labels. If we don't provide index labels in the Pandas Series, Pandas will use numerical row indexes when it creates a DataFrame. The numerical row indexes start at 0."
   ]
  },
  {
   "cell_type": "code",
   "execution_count": 26,
   "metadata": {},
   "outputs": [
    {
     "data": {
      "text/html": [
       "<div>\n",
       "<style scoped>\n",
       "    .dataframe tbody tr th:only-of-type {\n",
       "        vertical-align: middle;\n",
       "    }\n",
       "\n",
       "    .dataframe tbody tr th {\n",
       "        vertical-align: top;\n",
       "    }\n",
       "\n",
       "    .dataframe thead th {\n",
       "        text-align: right;\n",
       "    }\n",
       "</style>\n",
       "<table border=\"1\" class=\"dataframe\">\n",
       "  <thead>\n",
       "    <tr style=\"text-align: right;\">\n",
       "      <th></th>\n",
       "      <th>Bob</th>\n",
       "      <th>Alice</th>\n",
       "    </tr>\n",
       "  </thead>\n",
       "  <tbody>\n",
       "    <tr>\n",
       "      <th>0</th>\n",
       "      <td>245.0</td>\n",
       "      <td>40</td>\n",
       "    </tr>\n",
       "    <tr>\n",
       "      <th>1</th>\n",
       "      <td>25.0</td>\n",
       "      <td>110</td>\n",
       "    </tr>\n",
       "    <tr>\n",
       "      <th>2</th>\n",
       "      <td>55.0</td>\n",
       "      <td>500</td>\n",
       "    </tr>\n",
       "    <tr>\n",
       "      <th>3</th>\n",
       "      <td>NaN</td>\n",
       "      <td>45</td>\n",
       "    </tr>\n",
       "  </tbody>\n",
       "</table>\n",
       "</div>"
      ],
      "text/plain": [
       "     Bob  Alice\n",
       "0  245.0     40\n",
       "1   25.0    110\n",
       "2   55.0    500\n",
       "3    NaN     45"
      ]
     },
     "execution_count": 26,
     "metadata": {},
     "output_type": "execute_result"
    }
   ],
   "source": [
    "data = {\n",
    "    \"Bob\": pd.Series([245, 25, 55]),\n",
    "    \"Alice\": pd.Series([40, 110, 500, 45])\n",
    "}\n",
    "\n",
    "df = pd.DataFrame(data)\n",
    "\n",
    "df"
   ]
  },
  {
   "cell_type": "markdown",
   "metadata": {},
   "source": [
    "Just like with Pandas Series, we can extract information from DataFrames using attributes."
   ]
  },
  {
   "cell_type": "code",
   "execution_count": 28,
   "metadata": {},
   "outputs": [
    {
     "name": "stdout",
     "output_type": "stream",
     "text": [
      "shopping_carts has shape (5, 2)\n",
      "shopping_carts has dimension 2\n",
      "shopping_carts has a total of 10 elements\n",
      "\n",
      "The data in shopping_carts is: \n",
      " [[245. 500.]\n",
      " [ nan  40.]\n",
      " [ nan 110.]\n",
      " [ 25.  45.]\n",
      " [ 55.  nan]]\n",
      "\n",
      "The row index in shopping_carts is: \n",
      " Index(['bike', 'book', 'glasses', 'pants', 'watch'], dtype='object')\n",
      "\n",
      "The column index in shopping_carts is: \n",
      " Index(['Bob', 'Alice'], dtype='object')\n"
     ]
    }
   ],
   "source": [
    "print(\"shopping_carts has shape {}\".format(shopping_carts.shape))\n",
    "print(\"shopping_carts has dimension {}\".format(shopping_carts.ndim))\n",
    "print(\"shopping_carts has a total of {} elements\".format(shopping_carts.size))\n",
    "print()\n",
    "print(\"The data in shopping_carts is: \\n {}\".format(shopping_carts.values))\n",
    "print()\n",
    "print(\"The row index in shopping_carts is: \\n {}\".format(shopping_carts.index))\n",
    "print()\n",
    "print(\"The column index in shopping_carts is: \\n {}\".format(shopping_carts.columns))"
   ]
  },
  {
   "cell_type": "markdown",
   "metadata": {},
   "source": [
    "When creating `shopping_carts`, we passed in the entire dictionary to `pd.DataFrame()`. However, there may be cases where you're only interested in a subset of the data.\n",
    "\n",
    "Pandas allow us to select which data we want to put into our DataFrame by means of keywords `columns` and `index`."
   ]
  },
  {
   "cell_type": "code",
   "execution_count": 31,
   "metadata": {},
   "outputs": [
    {
     "data": {
      "text/html": [
       "<div>\n",
       "<style scoped>\n",
       "    .dataframe tbody tr th:only-of-type {\n",
       "        vertical-align: middle;\n",
       "    }\n",
       "\n",
       "    .dataframe tbody tr th {\n",
       "        vertical-align: top;\n",
       "    }\n",
       "\n",
       "    .dataframe thead th {\n",
       "        text-align: right;\n",
       "    }\n",
       "</style>\n",
       "<table border=\"1\" class=\"dataframe\">\n",
       "  <thead>\n",
       "    <tr style=\"text-align: right;\">\n",
       "      <th></th>\n",
       "      <th>Bob</th>\n",
       "    </tr>\n",
       "  </thead>\n",
       "  <tbody>\n",
       "    <tr>\n",
       "      <th>bike</th>\n",
       "      <td>245</td>\n",
       "    </tr>\n",
       "    <tr>\n",
       "      <th>pants</th>\n",
       "      <td>25</td>\n",
       "    </tr>\n",
       "    <tr>\n",
       "      <th>watch</th>\n",
       "      <td>55</td>\n",
       "    </tr>\n",
       "  </tbody>\n",
       "</table>\n",
       "</div>"
      ],
      "text/plain": [
       "       Bob\n",
       "bike   245\n",
       "pants   25\n",
       "watch   55"
      ]
     },
     "execution_count": 31,
     "metadata": {},
     "output_type": "execute_result"
    }
   ],
   "source": [
    "bob_shopping_cart = pd.DataFrame(items, columns=[\"Bob\"])\n",
    "\n",
    "bob_shopping_cart"
   ]
  },
  {
   "cell_type": "code",
   "execution_count": 32,
   "metadata": {},
   "outputs": [
    {
     "data": {
      "text/html": [
       "<div>\n",
       "<style scoped>\n",
       "    .dataframe tbody tr th:only-of-type {\n",
       "        vertical-align: middle;\n",
       "    }\n",
       "\n",
       "    .dataframe tbody tr th {\n",
       "        vertical-align: top;\n",
       "    }\n",
       "\n",
       "    .dataframe thead th {\n",
       "        text-align: right;\n",
       "    }\n",
       "</style>\n",
       "<table border=\"1\" class=\"dataframe\">\n",
       "  <thead>\n",
       "    <tr style=\"text-align: right;\">\n",
       "      <th></th>\n",
       "      <th>Bob</th>\n",
       "      <th>Alice</th>\n",
       "    </tr>\n",
       "  </thead>\n",
       "  <tbody>\n",
       "    <tr>\n",
       "      <th>pants</th>\n",
       "      <td>25.0</td>\n",
       "      <td>45</td>\n",
       "    </tr>\n",
       "    <tr>\n",
       "      <th>book</th>\n",
       "      <td>NaN</td>\n",
       "      <td>40</td>\n",
       "    </tr>\n",
       "  </tbody>\n",
       "</table>\n",
       "</div>"
      ],
      "text/plain": [
       "        Bob  Alice\n",
       "pants  25.0     45\n",
       "book    NaN     40"
      ]
     },
     "execution_count": 32,
     "metadata": {},
     "output_type": "execute_result"
    }
   ],
   "source": [
    "x = pd.DataFrame(items, index=[\"pants\", \"book\"])\n",
    "\n",
    "x"
   ]
  },
  {
   "cell_type": "markdown",
   "metadata": {},
   "source": [
    "### Creating Pandas DataFrames from a dictionary of lists\n",
    "\n",
    "Pandas DataFrames can also be created from a dictionary of lists. However, all the lists must be of the same length."
   ]
  },
  {
   "cell_type": "code",
   "execution_count": 34,
   "metadata": {},
   "outputs": [
    {
     "data": {
      "text/html": [
       "<div>\n",
       "<style scoped>\n",
       "    .dataframe tbody tr th:only-of-type {\n",
       "        vertical-align: middle;\n",
       "    }\n",
       "\n",
       "    .dataframe tbody tr th {\n",
       "        vertical-align: top;\n",
       "    }\n",
       "\n",
       "    .dataframe thead th {\n",
       "        text-align: right;\n",
       "    }\n",
       "</style>\n",
       "<table border=\"1\" class=\"dataframe\">\n",
       "  <thead>\n",
       "    <tr style=\"text-align: right;\">\n",
       "      <th></th>\n",
       "      <th>integers</th>\n",
       "      <th>floats</th>\n",
       "    </tr>\n",
       "  </thead>\n",
       "  <tbody>\n",
       "    <tr>\n",
       "      <th>0</th>\n",
       "      <td>1</td>\n",
       "      <td>4.5</td>\n",
       "    </tr>\n",
       "    <tr>\n",
       "      <th>1</th>\n",
       "      <td>2</td>\n",
       "      <td>8.2</td>\n",
       "    </tr>\n",
       "    <tr>\n",
       "      <th>2</th>\n",
       "      <td>3</td>\n",
       "      <td>9.6</td>\n",
       "    </tr>\n",
       "  </tbody>\n",
       "</table>\n",
       "</div>"
      ],
      "text/plain": [
       "   integers  floats\n",
       "0         1     4.5\n",
       "1         2     8.2\n",
       "2         3     9.6"
      ]
     },
     "execution_count": 34,
     "metadata": {},
     "output_type": "execute_result"
    }
   ],
   "source": [
    "data = {\n",
    "    \"integers\": [1, 2, 3],\n",
    "    \"floats\": [4.5, 8.2, 9.6]\n",
    "}\n",
    "\n",
    "df = pd.DataFrame(data)\n",
    "\n",
    "df"
   ]
  },
  {
   "cell_type": "markdown",
   "metadata": {},
   "source": [
    "Notice that we are using numerical row indices since labels were not provided.\n",
    "\n",
    "Labels can be added by using the `index` keyword."
   ]
  },
  {
   "cell_type": "code",
   "execution_count": 36,
   "metadata": {},
   "outputs": [
    {
     "data": {
      "text/html": [
       "<div>\n",
       "<style scoped>\n",
       "    .dataframe tbody tr th:only-of-type {\n",
       "        vertical-align: middle;\n",
       "    }\n",
       "\n",
       "    .dataframe tbody tr th {\n",
       "        vertical-align: top;\n",
       "    }\n",
       "\n",
       "    .dataframe thead th {\n",
       "        text-align: right;\n",
       "    }\n",
       "</style>\n",
       "<table border=\"1\" class=\"dataframe\">\n",
       "  <thead>\n",
       "    <tr style=\"text-align: right;\">\n",
       "      <th></th>\n",
       "      <th>integers</th>\n",
       "      <th>floats</th>\n",
       "    </tr>\n",
       "  </thead>\n",
       "  <tbody>\n",
       "    <tr>\n",
       "      <th>label 1</th>\n",
       "      <td>1</td>\n",
       "      <td>4.5</td>\n",
       "    </tr>\n",
       "    <tr>\n",
       "      <th>label 2</th>\n",
       "      <td>2</td>\n",
       "      <td>8.2</td>\n",
       "    </tr>\n",
       "    <tr>\n",
       "      <th>label 3</th>\n",
       "      <td>3</td>\n",
       "      <td>9.6</td>\n",
       "    </tr>\n",
       "  </tbody>\n",
       "</table>\n",
       "</div>"
      ],
      "text/plain": [
       "         integers  floats\n",
       "label 1         1     4.5\n",
       "label 2         2     8.2\n",
       "label 3         3     9.6"
      ]
     },
     "execution_count": 36,
     "metadata": {},
     "output_type": "execute_result"
    }
   ],
   "source": [
    "df = pd.DataFrame(data, index=[\"label 1\", \"label 2\", \"label 3\"])\n",
    "\n",
    "df"
   ]
  },
  {
   "cell_type": "markdown",
   "metadata": {},
   "source": [
    "### Creating Pandas DataFrames from a list of dictionaries"
   ]
  },
  {
   "cell_type": "code",
   "execution_count": 37,
   "metadata": {},
   "outputs": [
    {
     "data": {
      "text/html": [
       "<div>\n",
       "<style scoped>\n",
       "    .dataframe tbody tr th:only-of-type {\n",
       "        vertical-align: middle;\n",
       "    }\n",
       "\n",
       "    .dataframe tbody tr th {\n",
       "        vertical-align: top;\n",
       "    }\n",
       "\n",
       "    .dataframe thead th {\n",
       "        text-align: right;\n",
       "    }\n",
       "</style>\n",
       "<table border=\"1\" class=\"dataframe\">\n",
       "  <thead>\n",
       "    <tr style=\"text-align: right;\">\n",
       "      <th></th>\n",
       "      <th>bikes</th>\n",
       "      <th>glasses</th>\n",
       "      <th>pants</th>\n",
       "      <th>watches</th>\n",
       "    </tr>\n",
       "  </thead>\n",
       "  <tbody>\n",
       "    <tr>\n",
       "      <th>0</th>\n",
       "      <td>20</td>\n",
       "      <td>NaN</td>\n",
       "      <td>30</td>\n",
       "      <td>35</td>\n",
       "    </tr>\n",
       "    <tr>\n",
       "      <th>1</th>\n",
       "      <td>15</td>\n",
       "      <td>50.0</td>\n",
       "      <td>5</td>\n",
       "      <td>10</td>\n",
       "    </tr>\n",
       "  </tbody>\n",
       "</table>\n",
       "</div>"
      ],
      "text/plain": [
       "   bikes  glasses  pants  watches\n",
       "0     20      NaN     30       35\n",
       "1     15     50.0      5       10"
      ]
     },
     "execution_count": 37,
     "metadata": {},
     "output_type": "execute_result"
    }
   ],
   "source": [
    "items2 = [\n",
    "    {\n",
    "        \"bikes\": 20,\n",
    "        \"pants\": 30,\n",
    "        \"watches\": 35\n",
    "    },\n",
    "    {\n",
    "        \"watches\": 10,\n",
    "        \"glasses\": 50,\n",
    "        \"bikes\": 15,\n",
    "        \"pants\": 5\n",
    "    }\n",
    "]\n",
    "\n",
    "store_items = pd.DataFrame(items2)\n",
    "\n",
    "store_items"
   ]
  },
  {
   "cell_type": "markdown",
   "metadata": {},
   "source": [
    "Again, we can label the rows."
   ]
  },
  {
   "cell_type": "code",
   "execution_count": 38,
   "metadata": {},
   "outputs": [
    {
     "data": {
      "text/html": [
       "<div>\n",
       "<style scoped>\n",
       "    .dataframe tbody tr th:only-of-type {\n",
       "        vertical-align: middle;\n",
       "    }\n",
       "\n",
       "    .dataframe tbody tr th {\n",
       "        vertical-align: top;\n",
       "    }\n",
       "\n",
       "    .dataframe thead th {\n",
       "        text-align: right;\n",
       "    }\n",
       "</style>\n",
       "<table border=\"1\" class=\"dataframe\">\n",
       "  <thead>\n",
       "    <tr style=\"text-align: right;\">\n",
       "      <th></th>\n",
       "      <th>bikes</th>\n",
       "      <th>glasses</th>\n",
       "      <th>pants</th>\n",
       "      <th>watches</th>\n",
       "    </tr>\n",
       "  </thead>\n",
       "  <tbody>\n",
       "    <tr>\n",
       "      <th>store 1</th>\n",
       "      <td>20</td>\n",
       "      <td>NaN</td>\n",
       "      <td>30</td>\n",
       "      <td>35</td>\n",
       "    </tr>\n",
       "    <tr>\n",
       "      <th>store 2</th>\n",
       "      <td>15</td>\n",
       "      <td>50.0</td>\n",
       "      <td>5</td>\n",
       "      <td>10</td>\n",
       "    </tr>\n",
       "  </tbody>\n",
       "</table>\n",
       "</div>"
      ],
      "text/plain": [
       "         bikes  glasses  pants  watches\n",
       "store 1     20      NaN     30       35\n",
       "store 2     15     50.0      5       10"
      ]
     },
     "execution_count": 38,
     "metadata": {},
     "output_type": "execute_result"
    }
   ],
   "source": [
    "store_items = pd.DataFrame(items2, index=[\"store 1\", \"store 2\"])\n",
    "\n",
    "store_items"
   ]
  },
  {
   "cell_type": "markdown",
   "metadata": {},
   "source": [
    "## Accessing elements in Pandas DataFrames\n"
   ]
  }
 ],
 "metadata": {
  "kernelspec": {
   "display_name": "Python 3",
   "language": "python",
   "name": "python3"
  },
  "language_info": {
   "codemirror_mode": {
    "name": "ipython",
    "version": 3
   },
   "file_extension": ".py",
   "mimetype": "text/x-python",
   "name": "python",
   "nbconvert_exporter": "python",
   "pygments_lexer": "ipython3",
   "version": "3.7.0"
  }
 },
 "nbformat": 4,
 "nbformat_minor": 2
}
