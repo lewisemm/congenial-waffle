{
 "cells": [
  {
   "cell_type": "markdown",
   "metadata": {},
   "source": [
    "# Introduction to Pandas\n",
    "\n",
    "**Pandas** is a package for data manipulation and analysis in Python. The name Panda is derived from **Pan**el **Da**ta.\n",
    "\n",
    "Pandas incorporate two additional data structures into Python;\n",
    "* Pandas series\n",
    "* Pandas dataframe\n",
    "These data structures allow us to work with labelled and relational data in an easy and intuitive manner.\n",
    "\n",
    "## Why use Pandas?\n",
    "The recent successes of machine learning algorithmsis partly due to the huge amounts of data that we have available to train our algorithms.\n",
    "However, when it comes to data, quantity is not the only thing that matters, the quality of data is just as important. It often happens that large datasets don't come ready to be fed into your learning algorithms. They will often have incorrect values, missing values, outliers etc.\n",
    "One important step in machine learning is to look at your data first and make sure it's well suited for your training algorithm by doing some basic data analysis.\n",
    "This is where Pandas come in.\n",
    "Pandas Series and Pandas Dataframes are designed for fast data analysis and manipulation. They are also flexible and easy to use.\n",
    "Below are some features that make it an excellent package for data analysis.\n",
    "* It allows the use of labels for rows and columns\n",
    "* Can calculate rolling statistics on time series data\n",
    "* Easy handling of NaN values\n",
    "* It's able to load data of different formats into DataFrames\n",
    "* Can join and merge different datasets together\n",
    "* Integrates with NumPy and Matplotlib"
   ]
  },
  {
   "cell_type": "markdown",
   "metadata": {},
   "source": [
    "## Creating a Panda series\n",
    "\n",
    "A Panda series is a one-dimensional array like object that can hold many datatypes.\n",
    "\n",
    "One main difference between Panda Series and a NumPy ndarray is that you can assign an index label to each element in the Panda (you can name the indices in your Panda Series).\n",
    "\n",
    "Another big difference between the two is that a Panda Series can contain elements of different data types.\n",
    "\n",
    "Let's create a Pandas Series.\n",
    "\n",
    "The command `pd.Series(data, index)` will create a Pandas series where `index` is the list of index labels.\n",
    "\n",
    "We can create a Pandas Series to store a grocery list."
   ]
  },
  {
   "cell_type": "code",
   "execution_count": 3,
   "metadata": {},
   "outputs": [
    {
     "data": {
      "text/plain": [
       "eggs       30\n",
       "apples      6\n",
       "milk      Yes\n",
       "bread      No\n",
       "dtype: object"
      ]
     },
     "execution_count": 3,
     "metadata": {},
     "output_type": "execute_result"
    }
   ],
   "source": [
    "import pandas as pd\n",
    "\n",
    "groceries = pd.Series(data=[30, 6, \"Yes\", \"No\"], index=[\"eggs\", \"apples\", \"milk\", \"bread\"])\n",
    "\n",
    "groceries"
   ]
  },
  {
   "cell_type": "markdown",
   "metadata": {},
   "source": [
    "> Pandas Series are displayed with indices in the first column and the data in the second column.\n",
    "\n",
    "Just like NumPy ndarrays, Pandas Series have attributes that allow us to get information from the series in an easy way."
   ]
  },
  {
   "cell_type": "code",
   "execution_count": 4,
   "metadata": {},
   "outputs": [
    {
     "name": "stdout",
     "output_type": "stream",
     "text": [
      "Groceries has shape (4,)\n",
      "Groceries has dimension 1\n",
      "Groceries has a total of 4 elements\n"
     ]
    }
   ],
   "source": [
    "print(\"Groceries has shape {}\".format(groceries.shape))\n",
    "print(\"Groceries has dimension {}\".format(groceries.ndim))\n",
    "print(\"Groceries has a total of {} elements\".format(groceries.size))"
   ]
  },
  {
   "cell_type": "markdown",
   "metadata": {},
   "source": [
    "We can also print the index labels and the data separately. This is helpful if you don't happen to know what the index labels of the Pandas Series are."
   ]
  },
  {
   "cell_type": "code",
   "execution_count": 5,
   "metadata": {},
   "outputs": [
    {
     "name": "stdout",
     "output_type": "stream",
     "text": [
      "The data in groceries is [30 6 'Yes' 'No'].\n",
      "The index of groceries is Index(['eggs', 'apples', 'milk', 'bread'], dtype='object').\n"
     ]
    }
   ],
   "source": [
    "print(\"The data in groceries is {}.\".format(groceries.values))\n",
    "print(\"The index of groceries is {}.\".format(groceries.index))"
   ]
  },
  {
   "cell_type": "markdown",
   "metadata": {},
   "source": [
    "If you are dealing with a very large Pandas Series and you're not sure whether an index label exists, you can check using the `in` command."
   ]
  },
  {
   "cell_type": "code",
   "execution_count": 6,
   "metadata": {},
   "outputs": [
    {
     "name": "stdout",
     "output_type": "stream",
     "text": [
      "Is bananas an index label in groceries? False.\n",
      "Is bread an index label in groceries? True.\n"
     ]
    }
   ],
   "source": [
    "print(\"Is bananas an index label in groceries? {}.\".format(\"bananas\" in groceries))\n",
    "print(\"Is bread an index label in groceries? {}.\".format(\"bread\" in groceries))"
   ]
  },
  {
   "cell_type": "markdown",
   "metadata": {},
   "source": [
    "## Accessing and deleting elements in a Pandas Series\n",
    "\n",
    "One great advantage of a Pandss Series is that it allows us to access data in many different ways.\n",
    "\n",
    "Elements can be accessed using index labels or numerical indices inside square brackets. Both positive and negative indices can be used to access elements from the beginning and from the end of the Series respectively.\n",
    "\n",
    "Since there are different ways to access elements, Pandas Series have devised a way to remove any abiguity when accessing elements. It has two attributes that allow us to explicitly write what we mean to do. These two attributes are;\n",
    "* `.loc` - stands for location. It's used to explicitly state that we are using a labeled index.\n",
    "* `.iloc` - stands for integer location. It's used to explicitly state that we are using a numerical index.\n",
    "\n",
    "Let's see some examples."
   ]
  },
  {
   "cell_type": "code",
   "execution_count": 10,
   "metadata": {},
   "outputs": [
    {
     "name": "stdout",
     "output_type": "stream",
     "text": [
      "How many eggs do we need to buy? 30\n",
      "\n",
      "Do we need milk and bread? \n",
      " milk     Yes\n",
      "bread     No\n",
      "dtype: object\n",
      "\n",
      "How many eggs and apples do we need to buy? \n",
      " eggs      30\n",
      "apples     6\n",
      "dtype: object\n",
      "\n",
      "How many eggs and apples do we need to buy? \n",
      " eggs      30\n",
      "apples     6\n",
      "dtype: object\n",
      "\n",
      "Do we need bread? No\n",
      "\n"
     ]
    }
   ],
   "source": [
    "print(\"How many eggs do we need to buy? {}\".format(groceries[\"eggs\"]))\n",
    "print()\n",
    "print(\"Do we need milk and bread? \\n {}\".format(groceries[[\"milk\", \"bread\"]]))\n",
    "print()\n",
    "print(\"How many eggs and apples do we need to buy? \\n {}\".format(groceries[[\"eggs\", \"apples\"]]))\n",
    "print()\n",
    "print(\"How many eggs and apples do we need to buy? \\n {}\".format(groceries[[0, 1]]))\n",
    "print()\n",
    "print(\"Do we need bread? {}\".format(groceries[-1]))\n",
    "print()"
   ]
  },
  {
   "cell_type": "markdown",
   "metadata": {},
   "source": [
    "Pandas Series are mutable. We can change elements after the Series has already been created."
   ]
  },
  {
   "cell_type": "code",
   "execution_count": 13,
   "metadata": {},
   "outputs": [
    {
     "name": "stdout",
     "output_type": "stream",
     "text": [
      "Original groceries list: \n",
      " eggs        2\n",
      "apples      6\n",
      "milk      Yes\n",
      "bread      No\n",
      "dtype: object\n",
      "\n",
      "Modified groceries list: \n",
      " eggs       82\n",
      "apples      6\n",
      "milk      Yes\n",
      "bread      No\n",
      "dtype: object\n"
     ]
    }
   ],
   "source": [
    "print(\"Original groceries list: \\n {}\".format(groceries))\n",
    "\n",
    "groceries[\"eggs\"] = 82\n",
    "print()\n",
    "print(\"Modified groceries list: \\n {}\".format(groceries))"
   ]
  },
  {
   "cell_type": "markdown",
   "metadata": {},
   "source": [
    "We can delete items from Pandas Series using the `drop()` method. By default, this method drops elements **out of place**, meaning that the original Series will not be altered."
   ]
  },
  {
   "cell_type": "code",
   "execution_count": 14,
   "metadata": {},
   "outputs": [
    {
     "name": "stdout",
     "output_type": "stream",
     "text": [
      "Original groceries list: \n",
      " eggs       82\n",
      "apples      6\n",
      "milk      Yes\n",
      "bread      No\n",
      "dtype: object\n",
      "\n",
      "remove apples (out of place): \n",
      " eggs      82\n",
      "milk     Yes\n",
      "bread     No\n",
      "dtype: object\n",
      "\n",
      "groceries list after the drop: \n",
      " eggs       82\n",
      "apples      6\n",
      "milk      Yes\n",
      "bread      No\n",
      "dtype: object\n"
     ]
    }
   ],
   "source": [
    "print(\"Original groceries list: \\n {}\".format(groceries))\n",
    "\n",
    "print()\n",
    "print(\"remove apples (out of place): \\n {}\".format(groceries.drop(\"apples\")))\n",
    "print()\n",
    "print(\"groceries list after the drop: \\n {}\".format(groceries))"
   ]
  },
  {
   "cell_type": "markdown",
   "metadata": {},
   "source": [
    "To delete items in place, we need to use the `inplace` keyword and set its value to `True`."
   ]
  },
  {
   "cell_type": "code",
   "execution_count": 15,
   "metadata": {},
   "outputs": [
    {
     "name": "stdout",
     "output_type": "stream",
     "text": [
      "Original groceries list: \n",
      " eggs       82\n",
      "apples      6\n",
      "milk      Yes\n",
      "bread      No\n",
      "dtype: object\n",
      "\n",
      "remove apples (in place): \n",
      " None\n",
      "\n",
      "groceries list after the drop: \n",
      " eggs      82\n",
      "milk     Yes\n",
      "bread     No\n",
      "dtype: object\n"
     ]
    }
   ],
   "source": [
    "print(\"Original groceries list: \\n {}\".format(groceries))\n",
    "\n",
    "print()\n",
    "print(\"remove apples (in place): \\n {}\".format(groceries.drop(\"apples\", inplace=True)))\n",
    "print()\n",
    "print(\"groceries list after the drop: \\n {}\".format(groceries))"
   ]
  },
  {
   "cell_type": "markdown",
   "metadata": {},
   "source": [
    "## Arithmetic Operations on Panda Series"
   ]
  }
 ],
 "metadata": {
  "kernelspec": {
   "display_name": "Python 3",
   "language": "python",
   "name": "python3"
  },
  "language_info": {
   "codemirror_mode": {
    "name": "ipython",
    "version": 3
   },
   "file_extension": ".py",
   "mimetype": "text/x-python",
   "name": "python",
   "nbconvert_exporter": "python",
   "pygments_lexer": "ipython3",
   "version": "3.7.0"
  }
 },
 "nbformat": 4,
 "nbformat_minor": 2
}
